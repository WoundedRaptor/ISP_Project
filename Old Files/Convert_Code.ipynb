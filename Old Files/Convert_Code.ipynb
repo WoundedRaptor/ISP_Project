{
 "cells": [
  {
   "cell_type": "code",
   "execution_count": 12,
   "id": "9ae951ff-c16c-4b54-8754-16d96f37526d",
   "metadata": {},
   "outputs": [
    {
     "name": "stdout",
     "output_type": "stream",
     "text": [
      "Modified script saved to /Users/christopherspence/Desktop/ISP Project/Project_code_modified.py\n"
     ]
    }
   ],
   "source": [
    "import nbformat\n",
    "from nbconvert import PythonExporter\n",
    "import os\n",
    "\n",
    "# Paths\n",
    "notebook_filename = os.path.expanduser('~/Desktop/ISP Project/Project_code.ipynb')\n",
    "output_script_filename = os.path.expanduser('~/Desktop/ISP Project/Project_code_modified.py')\n",
    "\n",
    "# Check if the notebook file exists\n",
    "if not os.path.isfile(notebook_filename):\n",
    "    raise FileNotFoundError(f\"The notebook file was not found: {notebook_filename}\")\n",
    "\n",
    "# Load the notebook\n",
    "with open(notebook_filename, 'r', encoding='utf-8') as f:\n",
    "    notebook_content = nbformat.read(f, as_version=4)\n",
    "\n",
    "# Convert the notebook to a Python script\n",
    "python_exporter = PythonExporter()\n",
    "python_script, _ = python_exporter.from_notebook_node(notebook_content)\n",
    "\n",
    "# Modify the script to save plots and correct indentation\n",
    "lines = python_script.split('\\n')\n",
    "lines.insert(0, 'import matplotlib.pyplot as plt\\n')\n",
    "\n",
    "# Function to correct indentation\n",
    "def correct_indentation(lines):\n",
    "    corrected_lines = []\n",
    "    indent_level = 0\n",
    "    indent_stack = []\n",
    "\n",
    "    for line in lines:\n",
    "        stripped_line = line.lstrip()\n",
    "\n",
    "        if not stripped_line:\n",
    "            corrected_lines.append('')\n",
    "            continue\n",
    "\n",
    "        if stripped_line.startswith(('def ', 'class ', 'for ', 'while ', 'if ', 'elif ', 'else:', 'try:', 'except ', 'with ')):\n",
    "            indent_stack.append(indent_level)\n",
    "\n",
    "        if stripped_line.startswith(('return', 'break', 'continue', 'pass', 'raise', 'yield')):\n",
    "            indent_level = indent_stack.pop() if indent_stack else indent_level - 1\n",
    "\n",
    "        corrected_line = ' ' * 4 * indent_level + stripped_line\n",
    "\n",
    "        if stripped_line.endswith(':') and not stripped_line.startswith(('return', 'break', 'continue', 'pass', 'raise', 'yield')):\n",
    "            indent_level += 1\n",
    "\n",
    "        corrected_lines.append(corrected_line)\n",
    "\n",
    "        if stripped_line.startswith(('return', 'break', 'continue', 'pass', 'raise', 'yield')):\n",
    "            indent_level = indent_stack.pop() if indent_stack else indent_level - 1\n",
    "\n",
    "    return corrected_lines\n",
    "\n",
    "# Correct the indentation in the script\n",
    "corrected_lines = correct_indentation(lines)\n",
    "\n",
    "# Add a line to save figures after each plot\n",
    "plot_count = 1\n",
    "for i, line in enumerate(corrected_lines):\n",
    "    if 'plt.show()' in line:\n",
    "        corrected_lines[i] = f'plt.savefig(\"plot_{plot_count}.png\")\\nplt.show()\\n'\n",
    "        plot_count += 1\n",
    "\n",
    "# Save the modified script\n",
    "with open(output_script_filename, 'w', encoding='utf-8') as f:\n",
    "    f.write('\\n'.join(corrected_lines))\n",
    "\n",
    "print(f\"Modified script saved to {output_script_filename}\")\n"
   ]
  },
  {
   "cell_type": "code",
   "execution_count": null,
   "id": "ed2fb597-4e3f-4464-b2b3-08f4f1a6a331",
   "metadata": {},
   "outputs": [],
   "source": []
  }
 ],
 "metadata": {
  "kernelspec": {
   "display_name": "Python 3 (ipykernel)",
   "language": "python",
   "name": "python3"
  },
  "language_info": {
   "codemirror_mode": {
    "name": "ipython",
    "version": 3
   },
   "file_extension": ".py",
   "mimetype": "text/x-python",
   "name": "python",
   "nbconvert_exporter": "python",
   "pygments_lexer": "ipython3",
   "version": "3.11.7"
  }
 },
 "nbformat": 4,
 "nbformat_minor": 5
}
